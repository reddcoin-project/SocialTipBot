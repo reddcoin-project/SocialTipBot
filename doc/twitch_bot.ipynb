{
 "metadata": {
  "name": ""
 },
 "nbformat": 3,
 "nbformat_minor": 0,
 "worksheets": [
  {
   "cells": [
    {
     "cell_type": "markdown",
     "metadata": {},
     "source": [
      "# User Guide: Reddcoin Tipbot on Twitch TV (tipreddcoin)\n",
      "\n",
      "by /u/laudney (Reddit) / @laudney (Twitter) / ren@reddcoin.com / Rppgy8PHbBrknXfDmfEmqZXTKMR1yiwVtB"
     ]
    },
    {
     "cell_type": "markdown",
     "metadata": {},
     "source": [
      "#### WARNING: THIS IS BETA SOFTWARE WITHOUT WARRANTY."
     ]
    },
    {
     "cell_type": "markdown",
     "metadata": {},
     "source": [
      "## Reddcoin Tipbot on Twitch TV (tipreddcoin)\n",
      "\n",
      "The bot is registered under the user name **tipreddcoin** and has its own **IRC chat channel #tipreddcoin**. The bot also joins the IRC channels of Team Reddcoin streamers so that their viewers can donate Reddcoins by sending commands to *tipreddcoin* in the channels.\n",
      "\n",
      "You can join the channel *#tipreddcoin* by visiting http://www.twitch.tv/tipreddcoin\n",
      "\n",
      "There are a few things very important to know about Twitch Chat:\n",
      "\n",
      "* Twitch Chat imposes extremely strict rate limit. **Any participant sending more than 20 messages in 30 seconds is globally banned for 8 hours. As a result, the bot is extra conservative and never sends more than one message every two seconds.** Compared to Twitter Tipbot, this Twitch Tipbot may show noticeable delay in response especially under heavy load.\n",
      "\n",
      "* **Twitch Chat servers are lossy. A small percentage of messages can be lost or delayed for up to 30 seconds.** There is no solution for this."
     ]
    },
    {
     "cell_type": "markdown",
     "metadata": {},
     "source": [
      "## Twitch TV vs Twitter\n",
      "\n",
      "For those of you who have used and are familiar with the Reddcoin Twitter Tipbot, I'd like to make a comparison here. In short, **Twitter Tipbot and Twitch Tipbot share the same set of commands and responses.**\n",
      "\n",
      "On Twitter, you can interact with bot *@tipreddcoin* through two ways: direct message and public tweets. You can send the same set of commands but in public tweets you need to prepend commands with @tipreddcoin.\n",
      "\n",
      "It's very similar on Twitch TV. There are two ways you can interact with *tipreddcoin*: its own channel *#tipreddcoin* or public channels (of streamers). In channel *#tipreddcoin*, **all messages should contain commands only and start with +**. In public channels, you should **prepend commands with @tipreddcoin but the commands can appear anywhere in your messages**."
     ]
    },
    {
     "cell_type": "markdown",
     "metadata": {},
     "source": [
      "## 1. Self Registration\n",
      "\n",
      "1. Either join channel *#tipreddcoin* and send \"+register\" or join any public channel for which *tipreddcoin* is also a viewer and send \"@tipreddcoin +register\".\n",
      "2. Once you receive confirmation of successful registration, you can now send \"+info\" command.\n",
      "3. If you are in channel #tipreddcoin, send \"+info\".\n",
      "4. If you are in other channels monitored by *tipreddcion*, send \"@tipreddcoin +info\" and you should get back account information in a message posted to the channel by the bot."
     ]
    },
    {
     "cell_type": "markdown",
     "metadata": {},
     "source": [
      "## 2. Simple Commands\n",
      "\n",
      "1. *tipreddcoin* accepts several simple commands. By \"simple\", it means 'single-word'.\n",
      "2. \"+register\": explicit registration.\n",
      "3. \"+accept\": if you are unregistered, use this command to accept all pending tips sent by other already registered users.\n",
      "4. \"+history\": details of the last transaction.\n",
      "5. \"+rates\": latest market prices of RDD/BTC from several exchanges.\n",
      "6. \"+summary\": total number of tips and amount of RDD you have sent and received."
     ]
    },
    {
     "cell_type": "markdown",
     "metadata": {},
     "source": [
      "## 3. Give Tips to Twitch Users\n",
      "\n",
      "1. The simplest tipping command follows this format: +tip @recipient amount RDD where amount is a number.\n",
      "2. **If you omit the @recipient in the command, eg. +tip 100 RDD, the tip is sent to the owner of the channel.** This is expected to be the most commonly used command by viewers to tip streamers.\n",
      "3. *tipreddcoin* recognises a large number of variations. Let's go through them:\n",
      "4. +tip can be replaced by +give, +send, +pay\n",
      "5. You can reverse the order of ammount and currency but you must remove any space in between, e.g. +pay @recipient RDD100\n",
      "6. You can replace @recipient with a Reddcoin wallet address\n",
      "7. You can replace amount with one of the keywords which will do two things a) choose an amount for you b) also generate very fun message!\n",
      "8. All the keywords are listed in this Regular Expression: (all|flip|megaflip|gigaflip|roll|megaroll|gigaroll|sushi|pi|e|leet|quarter|half|cookie|gum|beer|nicebeer|hug|kiss|highfive|fart|coffee)"
     ]
    },
    {
     "cell_type": "markdown",
     "metadata": {},
     "source": [
      "## 4. Withdraw\n",
      "\n",
      "The syntax of \"+withdraw\" is very similar to \"+tip\": +withdraw address amount RDD"
     ]
    },
    {
     "cell_type": "markdown",
     "metadata": {},
     "source": [
      "## 5. Give Tips to Unregistered Twitch Users\n",
      "\n",
      "When you tip someone who is not yet registered with *tipreddcoin*, there is one extra step you need to do. When you send command: +tip @total_stranger 100 RDD, the following will happen:\n",
      "\n",
      "1. Your tip is taken from your wallet and put inside the private wallet of the bot. The tip is marked as pending.\n",
      "2. You have to make sure @total_stranger accept the pending tip by sending \"+accept\" command to *tipreddcoin*."
     ]
    }
   ],
   "metadata": {}
  }
 ]
}