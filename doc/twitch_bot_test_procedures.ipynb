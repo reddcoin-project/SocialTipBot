{
 "metadata": {
  "name": ""
 },
 "nbformat": 3,
 "nbformat_minor": 0,
 "worksheets": [
  {
   "cells": [
    {
     "cell_type": "markdown",
     "metadata": {},
     "source": [
      "# How to Test Reddcoin Tipbot on Twitch TV (tipreddcoin)\n",
      "\n",
      "by laudney (Reddit) / @laudney (Twitter) / tipreddcoin@gmail.com"
     ]
    },
    {
     "cell_type": "markdown",
     "metadata": {},
     "source": [
      "#### WARNING: THIS IS BETA SOFTWARE WITHOUT WARRANTY. SERVER MAY REBOOT OR STAY TEMPORARILY OFFLINE. YOU MAY LOSE ALL YOUR COINS IN THE WALLET. DON'T TEST WITH WHAT YOU CANNOT LOSE."
     ]
    },
    {
     "cell_type": "markdown",
     "metadata": {},
     "source": [
      "## Reddcoin Tipbot on Twitch TV (tipreddcoin)\n",
      "\n",
      "The bot is registered under the user name **tipreddcoin** and has its own **IRC chat channel #tipreddcoin**. Below I lay out in details all the steps to test. Please follow them in sequence and contact me with any bug report or improvement suggestion.\n",
      "\n",
      "In each step I describe the expected behavior. If the expected behavior doesn't happen, please file a report. If the expected behavior requires further refinement, please also file a report. Thank you for your time and efforts!"
     ]
    },
    {
     "cell_type": "markdown",
     "metadata": {},
     "source": [
      "## Twitch TV vs Twitter\n",
      "\n",
      "For those of you who have used and are familiar with the Reddcoin Twitter Tipbot, I'd like to make a comparison here. First, in short, **Twitter Tipbot and Twitch Tipbot share the same set of commands and responses.** Second, however, there are some major differences between the two:\n",
      "\n",
      "1. Twitch chat is organised around IRC channels, one channel for each streamer.\n",
      "2. A user can join multiple Twitch IRC channels at the same time.\n",
      "3. The channel **#tipreddcoin** is special. Posting messages in this channel is handled in the same manner as direct messages, so you should **remove @tipreddcoin** from your commands and instead start your commands with **character +**.\n",
      "4. A user can send commands to *tipreddcoin* either in the special channel *#tipreddcoin* or in channels of which *tipreddcoin* is also a viewer. In the latter case, **prepend all your commands with @tipreddcoin**, just the same way you do when you tweet a command to Twitter Tipbot."
     ]
    },
    {
     "cell_type": "markdown",
     "metadata": {},
     "source": [
      "## Test Part 1. Self Registration\n",
      "\n",
      "1. Either join channel #tipreddcoin and send \"+register\" or join any channel for which *tipreddcoin* is also a viewer and send \"@tipreddcoin +register\".\n",
      "2. Once you receive confirmation of successful registrion, it's time to test \"+info\" command.\n",
      "3. If you are in channel #tipreddcoin, send \"+info\". In your message body, you can put in any random stuff as long as \"+info\" appears in the text and with space around it. Try different variations and see whether you get account info back each time.\n",
      "4. If you are in other channels monitored by *tipreddcion*, send \"@tipreddcoin +info\" and you should get back account information in a message posted to the channel by the bot."
     ]
    },
    {
     "cell_type": "markdown",
     "metadata": {},
     "source": [
      "## Test Part 2. Simple Commands\n",
      "\n",
      "1. We have the following simple commands to test. By simple, it means 'single-word'. Please test each command in both *#tipreddcoin* and others. You should get back the same responses.\n",
      "2. \"+register\": you should get back a message saying you are already registerd.\n",
      "3. \"+accept\": you should get back a message saying you don't have any pending tips. pending tips only apply if someone else sends you a tip and you are yet to be registered.\n",
      "4. \"+history\": you should get back a message saying you have 0 transaction."
     ]
    },
    {
     "cell_type": "markdown",
     "metadata": {},
     "source": [
      "## Test Part 3. Give Tips to other Registered Users\n",
      "\n",
      "1. Now the fun parts. At this stage, I'd like you to focus on tipping others already registered with the bot.\n",
      "2. The simplest tipping command is this: +tip @laudney 100 RDD in channel #tipreddcoin. Prepend '@tipreddcoin ' to make it work in other channels.\n",
      "3. **If you omit the recipient in the command, eg. +tip 100 RDD, the tip is sent to the owner of the channel.**\n",
      "4. Bot supports a large number of variations. Let's go through them:\n",
      "5. +tip can be replaced by +give, +send, +pay\n",
      "6. **You can reverse the order of ammount and currency but then you must remove the space in between**, e.g. +pay @laudney RDD100\n",
      "7. You can replace @laudney (i.e. the user name) with a wallet address, which is equivalent to +withdraw command.\n",
      "8. You can replace amount with one of the keywords which will do two things a) choose an amount for you b) also generate very fun message!!\n",
      "9. All the keywords are listed in this Regular Expressoin: '(all|flip|megaflip|gigaflip|roll|megaroll|gigaroll|sushi|random01|random05|random1|random3|random5|random10|random15|random25|random50|random100|random250|random500|random1000|upvote|pi|e|leet|quarter|half|cookie|nothing|gum|beer|nicebeer|hug|kiss|nyan|highfive|fart|coffee)'\n",
      "10. As before, **if you use keyword but put it behind RDD, you must remove the space in between.**, e.g. +tip @laudney RDDsushi. You see, it's a *play on the world*: RDDsushi, Rddbeer, RDDnicebeer, RDDflip\n",
      "11. So go forth and try funky commands like: +pay @laudney nyan RDD"
     ]
    },
    {
     "cell_type": "markdown",
     "metadata": {},
     "source": [
      "## Test Part 4. Withdraw\n",
      "\n",
      "1. The syntax of \"+withdraw\" is very similar to \"+tip\": +withdraw address amount RDD\n",
      "2. You can replace amount with any keyword in the same way as described in the previous section."
     ]
    },
    {
     "cell_type": "markdown",
     "metadata": {},
     "source": [
      "## Test Part 5. Give Tips to Unregistered Users\n",
      "\n",
      "Now here is the tricky bit. If you send command +tip @total_stranger 100 RDD, the several things should happen:\n",
      "\n",
      "1. Your tip is taken from your wallet and put inside the wallet of the bot. The tip is marked pending.\n",
      "2. *tipreddcoin* sends a public message to the channel: @total_stranger, @laudney has sent you a tip of 100 RDD. Please rely with +accept etc etc.\n",
      "3. So hopefully, @total_stranger notices the public tweet (i.e. mention) and the follow request and respond to both.\n",
      "4. When @total_stranger sends +accept to *tipreddcoin*, he/she should immediately receive the pending tip."
     ]
    }
   ],
   "metadata": {}
  }
 ]
}