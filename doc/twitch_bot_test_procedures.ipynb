{
 "metadata": {
  "name": ""
 },
 "nbformat": 3,
 "nbformat_minor": 0,
 "worksheets": [
  {
   "cells": [
    {
     "cell_type": "markdown",
     "metadata": {},
     "source": [
      "# How to Use Reddcoin Tipbot on Twitch TV (tipreddcoin)\n",
      "\n",
      "by laudney (Reddit) / @laudney (Twitter) / tipreddcoin@gmail.com"
     ]
    },
    {
     "cell_type": "markdown",
     "metadata": {},
     "source": [
      "#### WARNING: THIS IS BETA SOFTWARE WITHOUT WARRANTY"
     ]
    },
    {
     "cell_type": "markdown",
     "metadata": {},
     "source": [
      "## Reddcoin Tipbot on Twitch TV (tipreddcoin)\n",
      "\n",
      "The bot is registered under the user name **tipreddcoin** and has its own **IRC chat channel #tipreddcoin**. The bot also joins the IRC channels of certain streamers so that their viewers can donate Reddcoins by sending commands to *tipreddcoin* in the channels.\n",
      "\n",
      "You can join the channel *#tipreddcoin* by visiting http://www.twitch.tv/tipreddcoin\n",
      "\n",
      "There are a few things very important to know about Twitch Chat:\n",
      "\n",
      "* Twitch Chat imposes extremely strict rate limit. **Any participant sending more than 20 messages in 30 seconds is globally banned for 8 hours. As a result, the bot is extra conservative and never sends more than one message every two seconds.** Compared to Twitter Tipbot, this Twitch Tipbot will show noticeable delay in response.\n",
      "\n",
      "* **Twitch Chat servers are lossy. A small percentage of messages can be lost or delayed for up to 30 seconds.** There is nothing I can do about it."
     ]
    },
    {
     "cell_type": "markdown",
     "metadata": {},
     "source": [
      "## Twitch TV vs Twitter\n",
      "\n",
      "For those of you who have used and are familiar with the Reddcoin Twitter Tipbot, I'd like to make a comparison here. In short, **Twitter Tipbot and Twitch Tipbot share the same set of commands and responses.**\n",
      "\n",
      "On Twitter, you can interact with bot *@tipreddcoin* through two ways: direct message and public tweets. You can send the same set of commands but in public tweets you need to prepend commands with @tipreddcoin.\n",
      "\n",
      "It's very similar on Twitch TV. There are two ways you can interact with *tipreddcoin*: its own channel *#tipreddcoin* or public channels (of streamers). In channel *#tipreddcoin*, **all messages should contain commands only and start with +**. In public channels, you should **prepend commands with @tipreddcoin but the commands can appear anywhere in your messages**."
     ]
    },
    {
     "cell_type": "markdown",
     "metadata": {},
     "source": [
      "## Step 1. Self Registration\n",
      "\n",
      "1. Either join channel *#tipreddcoin* and send \"+register\" or join any public channel for which *tipreddcoin* is also a viewer and send \"@tipreddcoin +register\".\n",
      "2. Once you receive confirmation of successful registrion, it's time to test \"+info\" command.\n",
      "3. If you are in channel #tipreddcoin, send \"+info\".\n",
      "4. If you are in other channels monitored by *tipreddcion*, send \"@tipreddcoin +info\" and you should get back account information in a message posted to the channel by the bot."
     ]
    },
    {
     "cell_type": "markdown",
     "metadata": {},
     "source": [
      "## Step 2. Simple Commands\n",
      "\n",
      "1. We have the following simple commands. By simple, it means 'single-word'.\n",
      "2. \"+register\": you should get back a message saying you are already registerd.\n",
      "3. \"+accept\": you should get back a message saying you don't have any pending tips. pending tips only apply if someone else sends you a tip and you are yet to be registered.\n",
      "4. \"+history\": you should get back a message saying you have 0 transaction.\n",
      "5. \"+help\": you should get back a list of most commonly used commands."
     ]
    },
    {
     "cell_type": "markdown",
     "metadata": {},
     "source": [
      "## Step 3. Give Tips to other Registered Users\n",
      "\n",
      "1. Now the fun parts. At this stage, I'd like you to focus on tipping others already registered with the bot.\n",
      "2. The simplest tipping command is this: +tip @laudney 100 RDD in channel *#tipreddcoin*. Prepend '@tipreddcoin ' to make it work in other channels.\n",
      "3. **If you omit the recipient in the command, eg. +tip 100 RDD, the tip is sent to the owner of the channel.** This is expected to be the most commonly used command by viewers to tip streamers.\n",
      "4. Bot supports a large number of variations. Let's go through them:\n",
      "5. +tip can be replaced by +give, +send, +pay\n",
      "6. **You can reverse the order of ammount and currency but then you must remove the space in between**, e.g. +pay @laudney RDD100\n",
      "7. You can replace @laudney (i.e. the user name) with a wallet address, which is then equivalent to +withdraw command.\n",
      "8. You can replace amount with one of the keywords which will do two things a) choose an amount for you b) also generate very fun message!!\n",
      "9. All the keywords are listed in this Regular Expressoin: '(all|flip|megaflip|gigaflip|roll|megaroll|gigaroll|sushi|random01|random05|random1|random3|random5|random10|random15|random25|random50|random100|random250|random500|random1000|upvote|pi|e|leet|quarter|half|cookie|nothing|gum|beer|nicebeer|hug|kiss|nyan|highfive|fart|coffee)'\n",
      "10. As before, **if you use keyword but put it behind RDD, you must remove the space in between.**, e.g. +tip @laudney RDDsushi. You see, it's a *play on the world*: RDDsushi, Rddbeer, RDDnicebeer, RDDflip\n",
      "11. So go forth and try funky commands like: +pay @laudney nyan RDD"
     ]
    },
    {
     "cell_type": "markdown",
     "metadata": {},
     "source": [
      "## Step 4. Withdraw\n",
      "\n",
      "1. The syntax of \"+withdraw\" is very similar to \"+tip\": +withdraw address amount RDD\n",
      "2. You can replace amount with any keyword in the same way as described in the previous section."
     ]
    },
    {
     "cell_type": "markdown",
     "metadata": {},
     "source": [
      "## Step 5. Give Tips to Unregistered Users\n",
      "\n",
      "If you send command +tip @total_stranger 100 RDD, the several things should happen:\n",
      "\n",
      "1. Your tip is taken from your wallet and put inside the wallet of the bot. The tip is marked pending.\n",
      "2. *tipreddcoin* sends a public message to the channel: @total_stranger, @laudney has sent you a tip of 100 RDD. Please rely with +accept etc etc.\n",
      "3. So hopefully, @total_stranger notices the public message and send \"+accept\" to claim the pending tip."
     ]
    }
   ],
   "metadata": {}
  }
 ]
}