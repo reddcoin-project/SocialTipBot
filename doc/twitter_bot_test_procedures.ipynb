{
 "metadata": {
  "name": ""
 },
 "nbformat": 3,
 "nbformat_minor": 0,
 "worksheets": [
  {
   "cells": [
    {
     "cell_type": "markdown",
     "metadata": {},
     "source": [
      "# User Guide: Reddcoin Tipbot on Twitter (@tipreddcoin)\n",
      "\n",
      "by /u/laudney (Reddit) / @laudney (Twitter) / ren@reddcoin.com / Rppgy8PHbBrknXfDmfEmqZXTKMR1yiwVtB"
     ]
    },
    {
     "cell_type": "markdown",
     "metadata": {},
     "source": [
      "#### WARNING: THIS IS BETA SOFTWARE WITHOUT WARRANTY."
     ]
    },
    {
     "cell_type": "markdown",
     "metadata": {},
     "source": [
      "## Reddcoin Tipbot on Twitter (@tipreddcoin)\n",
      "\n",
      "The bot is registered under the handle @tipreddcoin. The bot automatically approves any follow request. Below I lay out in details all the steps to register and interact with the bot. Please contact me with any bug report or improvement suggestion.\n",
      "\n",
      "@tipreddcoin accepts all commands in both direct messages and public tweets. You should get back responses in corresponding format. The difference between the two is: in public tweets, you need to put @tipreddcoin at the beginning of the tweet so it's considered a @reply to the bot. In direct messages, there is no need for that."
     ]
    },
    {
     "cell_type": "markdown",
     "metadata": {},
     "source": [
      "## 1. Self Registration\n",
      "\n",
      "1. Follow @tipreddcoin. This will trigger three things. 1) @tipreddcoin will immediately send you a follow request. Please accept it ASAP. 2) @tipreddcoin will also immediately create a Reddcoin account for you, including your Reddcoin address. 3) @tipreddcoin will then reply to you in a public tweet to inform you of the success of registrion and ask you to get more information with \"+info\" command. The reason a public tweet is used is due to the fact that sending direct message is forbidden until after you accept bot's follow request.\n",
      "2. Once you accept the follow request from @tipreddcoin, You can now send +info command.\n",
      "3. Using direct message, send \"+info\" to @tipreddcoin. In your message body, you can put in any random text as long as \"+info\" appears in the text and with space around it.\n",
      "4. Using public tweets, you can send \"@tipreddcoin +info\" and you will get back account information in a public tweet from bot."
     ]
    },
    {
     "cell_type": "markdown",
     "metadata": {},
     "source": [
      "## 2. Simple Commands\n",
      "\n",
      "1. @tipreddcoin accepts several simple commands. By \"simple\", it means 'single-word'.\n",
      "2. \"+register\": explicit registration.\n",
      "3. \"+accept\": if you are unregistered, use this command to accept all pending tips sent by other already registered users.\n",
      "4. \"+history\": details of the last transaction.\n",
      "5. \"+rates\": latest market prices of RDD/BTC from several exchanges.\n",
      "6. \"+summary\": total number of tips and amount of RDD you have sent and received."
     ]
    },
    {
     "cell_type": "markdown",
     "metadata": {},
     "source": [
      "## 3. Give Tips to Twitter Users\n",
      "\n",
      "1. The simplest tipping command follows this format: +tip @recipient_screen_name amount RDD where amount is a number.\n",
      "3. Unlike Reddit, on Twitter you must always specify recipient screen name.\n",
      "4. @tipreddcoin recognises a large number of variations. Let's go through them:\n",
      "5. +tip can be replaced by +give, +send, +pay\n",
      "6. You can reverse the order of ammount and currency but you must remove any space in between, e.g. +pay @recipient_screen_name RDD100\n",
      "7. You can replace @recipient_screen_name with a Reddcoin wallet address\n",
      "8. You can replace amount with one of the keywords which will do two things a) choose an amount for you b) also generate very fun message!\n",
      "9. All the keywords are listed in this Regular Expression: (all|flip|megaflip|gigaflip|roll|megaroll|gigaroll|sushi|pi|e|leet|quarter|half|cookie|gum|beer|nicebeer|hug|kiss|highfive|fart|coffee)"
     ]
    },
    {
     "cell_type": "markdown",
     "metadata": {},
     "source": [
      "## 4. Withdraw\n",
      "\n",
      "The syntax of \"+withdraw\" is very similar to \"+tip\": +withdraw address amount RDD"
     ]
    },
    {
     "cell_type": "markdown",
     "metadata": {},
     "source": [
      "## 5. Give Tips to Unregistered Twitter Users\n",
      "\n",
      "When you tip someone who is not yet registered with @tipreddcoin, there is one extra step you need to do. When you send command: +tip @total_stranger 100 RDD, the following will happen:\n",
      "\n",
      "1. Your tip is taken from your wallet and put inside the private wallet of the bot. The tip is marked as pending.\n",
      "2. You have to make sure @total_stranger accept the pending tip by either following @tipreddcoin or sending it \"+accept\" command."
     ]
    }
   ],
   "metadata": {}
  }
 ]
}