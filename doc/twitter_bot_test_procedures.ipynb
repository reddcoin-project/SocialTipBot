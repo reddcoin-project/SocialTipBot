{
 "metadata": {
  "name": ""
 },
 "nbformat": 3,
 "nbformat_minor": 0,
 "worksheets": [
  {
   "cells": [
    {
     "cell_type": "markdown",
     "metadata": {},
     "source": [
      "# How to Test Reddcoin Tipbot on Twitter (@itipyou)\n",
      "\n",
      "by laudney (Reddit) / @laudney (Twitter) / reddtipbot@gmail.com"
     ]
    },
    {
     "cell_type": "markdown",
     "metadata": {},
     "source": [
      "#### WARNING: THIS IS BETA SOFTWARE WITHOUT WARRANTY. SERVER MAY REBOOT OR STAY TEMPORARILY OFFLINE. YOU MAY LOSE ALL YOUR COINS IN THE WALLET. DON'T TEST WITH WHAT YOU CANNOT LOSE."
     ]
    },
    {
     "cell_type": "markdown",
     "metadata": {},
     "source": [
      "## Reddcoin Tipbot on Twitter (@itipyou)\n",
      "\n",
      "The bot is registered under the handle @itipyou (I Tip You). I've also registered @tipreddcoin (unfortunately @tipredd is not available) as a backup. I prefer @itipyou because it's shorter, easier to type and more catchy.\n",
      "\n",
      "The bot automatically approves any *follow request*. Below I lay out in details all the steps to test. Please follow them in sequence and contact me with any bug report or improvement suggestion.\n",
      "\n",
      "In each step I describe the expected behavior. If the expected behavior doesn't happen, please file a report. If the expected behavior requires further refinement, please also file a report.\n",
      "\n",
      "Thank you for your time and efforts!"
     ]
    },
    {
     "cell_type": "markdown",
     "metadata": {},
     "source": [
      "## Test Part 1. Self Registration\n",
      "\n",
      "1. Follow @itipyou. This will trigger three things. 1) @itipyou will immediately send you a follow request. Please accept it asap. 2) @itipyou will also immediately create an account for you, including your Reddcoin address. 3) @itipyou will then mention you in a public tweet to inform you of the success of registrion and ask you to get more information with \"+info\" command. The reason a public tweet is used is mostly due to the fact that sending direct message is forbidden until after you accept bot's follow request. Please check all three things happen.\n",
      "2. Once you accept the follow request from @itipyou, it's time to test +info command.\n",
      "3. Using direct message, send \"+info\" to @itipyou. In your message body, you can put in any random stuff as long as \"+info\" appears in the text and with space around it. Try different variations and see whether you get account info back each time.\n",
      "4. Using public tweets, send \"@itipyou +info\" and you should get back account information in a public tweet from bot."
     ]
    },
    {
     "cell_type": "markdown",
     "metadata": {},
     "source": [
      "## Test Part 2. Simple Commands\n",
      "\n",
      "1. We have the following simple commands to test. By simple, it means 'single-word'. Please test each command in both direct messages and public tweet. You should get back responses in corresponding format. The difference between the two is: in public tweets, you need to put @itipyou at the beginning of the tweet so it's considered a @reply to the bot. In direct message, there is no need for that.\n",
      "2. \"+register\": you should get back a message saying you are already registerd.\n",
      "3. \"+accept\": you should get back a message saying you don't have any pending tips. pending tips only apply if someone else sends you a tip and you are yet to be registered.\n",
      "4. \"+decline\": you should get back the same message as you get for \"+accept\". \n",
      "5. \"+history\": you should get back a message saying you have 0 transaction.\n",
      "6. \"+rates\": you should get back a message saying the command is disabled."
     ]
    },
    {
     "cell_type": "markdown",
     "metadata": {},
     "source": [
      "## Test Part 3. Give Tips to other Registered Users\n",
      "\n",
      "1. Now the fun parts. At this stage, I'd like you to focus on tipping others already registered with the bot. You can find out who are registered by looking at the Followed and Following of the bot.\n",
      "2. The simplest tipping command is this: +tip @laudney 100 RDD in a direct message. Prepend '@itipyou ' to make it work in a public tweet.\n",
      "3. **Unlike Reddit, in twitter you must always specify target screen name.**\n",
      "4. Bot supports a large number of variations. Let's go through them:\n",
      "5. +tip can be replaced by +give, +send, +pay\n",
      "6. You can reverse the order of ammount and currency, e.g. +pay @laudney RDD 100\n",
      "7. You can replace @laudney (i.e. the screen name) with a wallet address\n",
      "8. You can replace amount with one of the keywords which will do two things a) choose an amount for you b) also generate very fun message!!\n",
      "9. All the keywords are listed in this Regular Expressoin: '(all|flip|megaflip|gigaflip|roll|megaroll|gigaroll|sushi|random01|random05|random1|random3|random5|random10|random15|random25|random50|random100|random250|random500|random1000|upvote|pi|e|leet|quarter|half|cookie|nothing|gum|beer|nicebeer|hug|kiss|nyan|highfive|fart|coffee)'\n",
      "10. However, **if you use keyword but put it behind RDD, you must NOT put space in between.**, e.g. +tip @laudney RDDsushi. You see, it's a *play on the world*: RDDsushi, Rddbeer, RDDnicebeer, RDDflip\n",
      "11. So go forth and try funky commands like: +pay @laudney nyan RDD"
     ]
    },
    {
     "cell_type": "markdown",
     "metadata": {},
     "source": [
      "## Test Part 4. Withdraw\n",
      "\n",
      "1. The syntax of \"+withdraw\" is very similar to \"+tip\": +withdraw address amount RDD\n",
      "2. You can switch the order of amount and RDD\n",
      "3. You can replace amount with any keyword in the same way as described in the previous section."
     ]
    },
    {
     "cell_type": "markdown",
     "metadata": {},
     "source": [
      "## Test Part 5. Give Tips to Unregistered Users\n",
      "\n",
      "Now here is the tricky bit. When you tip someone who is not yet registered with the bot, which means he/she and @itipyou don't follow each other. So if you send command +tip @total_stranger 100 RDD, the several things should happen:\n",
      "\n",
      "1. Your tip is taken from your wallet and put inside the wallet of the bot. The tip is marked pending.\n",
      "2. @itipyou send a *follow request* to @total_stranger\n",
      "3. @itipyou also sends a public tweet: @total_stranger, @laudney has sent you a tip of 100 RDD. Please rely with +accept etc etc.\n",
      "4. @itipyou cannot send direct message to @total_stranger until they follow each other.\n",
      "5. So hopefully, @total_stranger notices the public tweet (i.e. mention) and the follow request and respond to both.\n",
      "6. When @total_stranger accepts the follow request and respond +accept to @itipyou, he/she should immediately receive the pending tip."
     ]
    }
   ],
   "metadata": {}
  }
 ]
}